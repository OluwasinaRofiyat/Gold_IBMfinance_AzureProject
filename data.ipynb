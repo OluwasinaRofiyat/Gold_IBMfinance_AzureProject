{
 "cells": [
  {
   "cell_type": "code",
   "execution_count": 1,
   "metadata": {},
   "outputs": [],
   "source": [
    "import pandas as pd"
   ]
  },
  {
   "cell_type": "code",
   "execution_count": 2,
   "metadata": {},
   "outputs": [],
   "source": [
    "df1 = pd.read_csv('RAW_DATA/nycpayroll_2020.csv')\n",
    "df2 = pd.read_csv('RAW_DATA/nycpayroll_2021.csv')"
   ]
  },
  {
   "cell_type": "code",
   "execution_count": 3,
   "metadata": {},
   "outputs": [],
   "source": [
    "df2 = df2.rename(columns={'AgencyCode':'AgencyID'})"
   ]
  },
  {
   "cell_type": "code",
   "execution_count": 4,
   "metadata": {},
   "outputs": [],
   "source": [
    "df3 = pd.concat([df1,df2])"
   ]
  },
  {
   "cell_type": "code",
   "execution_count": null,
   "metadata": {},
   "outputs": [],
   "source": [
    "print(df3.dtypes)"
   ]
  },
  {
   "cell_type": "code",
   "execution_count": 6,
   "metadata": {},
   "outputs": [],
   "source": [
    "df3['AgencyStartDate'] = pd.to_datetime(df3['AgencyStartDate'],format='%m/%d/%Y')"
   ]
  },
  {
   "cell_type": "code",
   "execution_count": null,
   "metadata": {},
   "outputs": [],
   "source": [
    "print(df3.dtypes)"
   ]
  },
  {
   "cell_type": "code",
   "execution_count": 8,
   "metadata": {},
   "outputs": [],
   "source": [
    "nyc_payroll = df3.to_csv('nyc_payroll.csv', index = False)"
   ]
  },
  {
   "cell_type": "code",
   "execution_count": 10,
   "metadata": {},
   "outputs": [
    {
     "name": "stdout",
     "output_type": "stream",
     "text": [
      "FiscalYear               0\n",
      "PayrollNumber            0\n",
      "AgencyID                 0\n",
      "AgencyName               0\n",
      "EmployeeID               0\n",
      "LastName                 0\n",
      "FirstName                0\n",
      "AgencyStartDate          0\n",
      "WorkLocationBorough      0\n",
      "TitleCode                0\n",
      "TitleDescription         0\n",
      "LeaveStatusasofJune30    0\n",
      "BaseSalary               0\n",
      "PayBasis                 0\n",
      "RegularHours             0\n",
      "RegularGrossPaid         0\n",
      "OTHours                  0\n",
      "TotalOTPaid              0\n",
      "TotalOtherPay            0\n",
      "dtype: int64\n"
     ]
    }
   ],
   "source": [
    "print(df3.isnull().sum())"
   ]
  },
  {
   "cell_type": "code",
   "execution_count": null,
   "metadata": {},
   "outputs": [],
   "source": []
  }
 ],
 "metadata": {
  "kernelspec": {
   "display_name": "Python 3",
   "language": "python",
   "name": "python3"
  },
  "language_info": {
   "codemirror_mode": {
    "name": "ipython",
    "version": 3
   },
   "file_extension": ".py",
   "mimetype": "text/x-python",
   "name": "python",
   "nbconvert_exporter": "python",
   "pygments_lexer": "ipython3",
   "version": "3.12.5"
  }
 },
 "nbformat": 4,
 "nbformat_minor": 2
}
